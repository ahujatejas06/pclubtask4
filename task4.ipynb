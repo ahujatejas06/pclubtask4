{
 "cells": [
  {
   "cell_type": "code",
   "execution_count": 43,
   "id": "3b593e8d-899c-41d3-bf41-07718b5af6c1",
   "metadata": {},
   "outputs": [],
   "source": [
    "import numpy as np\n",
    "import matplotlib.pyplot as plt"
   ]
  },
  {
   "cell_type": "markdown",
   "id": "f10c4db8-fa16-4553-9c6c-6a18fe85c7df",
   "metadata": {},
   "source": [
    "The next block contains a function to load the test set data. The dataset has been imported from kaggle and contains 2000 rows and 8 columns of training / test data"
   ]
  },
  {
   "cell_type": "code",
   "execution_count": 44,
   "id": "7bb22e14-2ba1-4e3f-b67d-be77fd788a74",
   "metadata": {},
   "outputs": [],
   "source": [
    "mean = 0\n",
    "variance = 0\n",
    "def normalizeData(data):\n",
    "    n_test = data.shape[1]\n",
    "    global mean, variance\n",
    "    mean = (1/n_test) * np.sum(data, dtype = float, axis = 1, keepdims=1)\n",
    "    variance = (1/n_test) * np.sum(np.square(data),axis =1, keepdims = 1)\n",
    "    variance = np.sqrt(variance)\n",
    "    data-=mean\n",
    "    data/=variance\n",
    "    return data"
   ]
  },
  {
   "cell_type": "code",
   "execution_count": 45,
   "id": "52c256fe-f855-4f70-b994-cda5c727ee09",
   "metadata": {},
   "outputs": [],
   "source": [
    "import csv\n",
    "def loadTrainingData():\n",
    "    file = open(\"framingham.csv\")\n",
    "    data = csv.reader(file)\n",
    "    features=[]\n",
    "    output=[]\n",
    "    trainingData=[]\n",
    "    trainingOutput=[]\n",
    "    testData=[]\n",
    "    testOutput=[]\n",
    "    for row in data:\n",
    "        features.append(row[:-1])\n",
    "        output.append(row[-1:])\n",
    "    output = output[1:]\n",
    "    features = features[1:]\n",
    "    output = np.array(output, dtype=\"float\")\n",
    "    features = np.array(features, dtype=\"float\")\n",
    "    output=output.T\n",
    "    features=features.T\n",
    "    features = normalizeData(features)\n",
    "    trainingData = features\n",
    "    trainingOutput = output\n",
    "    testData = features\n",
    "    testOutput = output\n",
    "    print(trainingData.shape)\n",
    "    print(testOutput.shape)\n",
    "    dataArray=[trainingData, trainingOutput, testData, testOutput]\n",
    "    return dataArray\n",
    "\n"
   ]
  },
  {
   "cell_type": "code",
   "execution_count": 46,
   "id": "2591e719",
   "metadata": {},
   "outputs": [],
   "source": [
    "def loadTestData():\n",
    "    file = open(\"framinghamTest.csv\")\n",
    "    data = csv.reader(file)\n",
    "    features=[]\n",
    "    output=[]\n",
    "    trainingData=[]\n",
    "    trainingOutput=[]\n",
    "    testData=[]\n",
    "    testOutput=[]\n",
    "    for row in data:\n",
    "        features.append(row[:-1])\n",
    "        output.append(row[-1:])\n",
    "    output = output[1:]\n",
    "    features = features[1:]\n",
    "    output = np.array(output, dtype=\"float\")\n",
    "    features = np.array(features, dtype=\"float\")\n",
    "    output=output.T\n",
    "    features=features.T\n",
    "    global mean,variance\n",
    "    features = (features-mean)/variance\n",
    "    trainingData = features\n",
    "    trainingOutput = output\n",
    "    testData = features\n",
    "    testOutput = output\n",
    "    print(trainingData.shape)\n",
    "    print(testOutput.shape)\n",
    "    dataArray=[trainingData, trainingOutput, testData, testOutput]\n",
    "    return dataArray"
   ]
  },
  {
   "cell_type": "code",
   "execution_count": 47,
   "id": "3470a41c-9e68-44e2-a221-803844545987",
   "metadata": {},
   "outputs": [],
   "source": [
    "def paramsDefine(nx,nh,ny):\n",
    "    params = dict()\n",
    "    params[\"W1\"] = np.random.randn(nh, nx) \n",
    "    params[\"b1\"] = np.zeros((nh,1))\n",
    "    params[\"W2\"] = np.random.randn(ny, nh) \n",
    "    params[\"b2\"] = np.zeros((ny,1))\n",
    "    return params"
   ]
  },
  {
   "cell_type": "code",
   "execution_count": 48,
   "id": "16d742e2-101e-4415-a650-f187b9f419eb",
   "metadata": {},
   "outputs": [],
   "source": [
    "def activationFunction(Z,activation = \"relu\"):\n",
    "    if activation == \"relu\":\n",
    "        A = np.maximum(0,Z)\n",
    "    elif activation == \"sigmoid\":\n",
    "        A = 1/(1+np.exp(-Z))\n",
    "    return A"
   ]
  },
  {
   "cell_type": "code",
   "execution_count": 49,
   "id": "9a244d6a-fd17-436d-b0f6-8f0c9aabb853",
   "metadata": {},
   "outputs": [],
   "source": [
    "def forwardProp(params, Data):\n",
    "    # print(Data)\n",
    "    Z1 = np.dot(params[\"W1\"], Data) + params[\"b1\"]\n",
    "    A1 = activationFunction(Z1, activation = \"relu\")\n",
    "    Z2 = np.dot(params[\"W2\"], A1) + params[\"b2\"]\n",
    "    A2 = activationFunction(Z2, activation = \"sigmoid\")\n",
    "    outputArray = {\"Z1\": Z1, \"Z2\":Z2, \"A1\":A1, \"A2\":A2}\n",
    "    return outputArray"
   ]
  },
  {
   "cell_type": "code",
   "execution_count": 50,
   "id": "5845db23-1299-45f9-a2a9-d1105e67fc83",
   "metadata": {},
   "outputs": [],
   "source": [
    "def findCost(A2, output):\n",
    "    n_test = A2.shape[1]\n",
    "    cost = np.sum(np.multiply(output,np.log(A2)) + np.multiply((1-output),np.log(1-A2)), axis=1)*(-1/n_test)\n",
    "    cost = np.squeeze(cost)\n",
    "    return cost"
   ]
  },
  {
   "cell_type": "code",
   "execution_count": 51,
   "id": "b0cca72a-eac0-4acc-82f3-9f1667ee6798",
   "metadata": {},
   "outputs": [],
   "source": [
    "def backwardProps(outputArray, output, params, data):\n",
    "    # print(outputArray[\"A2\"].shape == output.shape)\n",
    "    dZ2 = np.subtract(outputArray[\"A2\"], output)\n",
    "    dA1 = np.dot(params[\"W2\"].T, dZ2)\n",
    "    dZ1 = np.array(dA1, copy=True)\n",
    "    dZ1[outputArray[\"Z1\"] <= 0] = 0\n",
    "    dZ1 = np.multiply(dA1, dZ1)\n",
    "    n_test = output.shape[1]\n",
    "    dW2 = np.dot(dZ2, outputArray[\"A1\"].T)*(1/n_test)\n",
    "    db2 = np.sum(dZ2, axis=1, keepdims = 1)* (1/n_test)\n",
    "    dW1 = np.dot(dZ1, data.T)*(1/n_test)\n",
    "    db1 = np.sum(dZ1, axis=1, keepdims = 1) * (1/n_test)\n",
    "    grads = {\"dW1\": dW1, \"db1\": db1, \"dW2\":dW2, \"db2\":db2}\n",
    "    return grads"
   ]
  },
  {
   "cell_type": "code",
   "execution_count": 52,
   "id": "67eab87c-96e3-4ba0-bc23-01ffed7f0b6b",
   "metadata": {},
   "outputs": [],
   "source": [
    "def updateParams(params, grads, learningRate):\n",
    "    params[\"W1\"] = params[\"W1\"] - learningRate * grads[\"dW1\"]\n",
    "    params[\"b1\"] = params[\"b1\"] - learningRate * grads[\"db1\"]\n",
    "    params[\"W2\"] = params[\"W2\"] - learningRate * grads[\"dW2\"]\n",
    "    params[\"b2\"] = params[\"b2\"] - learningRate * grads[\"db2\"]\n",
    "    return params"
   ]
  },
  {
   "cell_type": "code",
   "execution_count": 53,
   "id": "45382553-b17b-44a8-a484-9d8370d8a865",
   "metadata": {},
   "outputs": [],
   "source": [
    "\n",
    "def trainNetwork(learningRate):\n",
    "    dataArray = loadTrainingData()\n",
    "    trainingData = np.array(dataArray[0])\n",
    "    trainingOutput = np.array(dataArray[1])\n",
    "    testData = np.array(dataArray[2])\n",
    "    testOutput = np.array(dataArray[3])\n",
    "    nx = trainingData.shape[0]\n",
    "    nh = 4\n",
    "    ny = trainingOutput.shape[0]\n",
    "    params = paramsDefine(nx, nh, ny)\n",
    "    costs = []\n",
    "    # print(trainingOutput.shape)\n",
    "    for i in range(10000):\n",
    "        outputArray = forwardProp(params, trainingData)\n",
    "        cost = findCost(outputArray[\"A2\"], trainingOutput)\n",
    "        costs.append(cost)\n",
    "        grads = backwardProps(outputArray, trainingOutput, params, trainingData)\n",
    "        params = updateParams(params, grads, learningRate)\n",
    "        if(i%100 == 0):\n",
    "            print(\"The cost at \"+ str(i) + \"th interation is \" + str(cost))\n",
    "        if(i%1500==0):\n",
    "            learningRate/=1.1\n",
    "    return params\n",
    "        "
   ]
  },
  {
   "cell_type": "code",
   "execution_count": null,
   "id": "d35ea2d3-7500-459f-a54d-e2289fe50f67",
   "metadata": {},
   "outputs": [],
   "source": []
  },
  {
   "cell_type": "code",
   "execution_count": 54,
   "id": "cb96cd7d-8851-49ee-b3ec-016c27af2eb8",
   "metadata": {},
   "outputs": [],
   "source": [
    "def predict(params):\n",
    "    dataArray = loadTestData()\n",
    "    data = np.array(dataArray[2])\n",
    "    output = np.array(dataArray[3])\n",
    "    print(output)\n",
    "    print(output.shape)\n",
    "    predictions = forwardProp(params, data)\n",
    "    predictions = predictions[\"A2\"]\n",
    "    predictions = predictions > 0.5\n",
    "    print ('Accuracy: %f' % float((np.dot(output,predictions.T) + np.dot(1-output,1-predictions.T))/float(output.size)*100) + '%')"
   ]
  },
  {
   "cell_type": "code",
   "execution_count": 55,
   "id": "750d2a03-ed1e-41c9-93aa-63ce7ff3d283",
   "metadata": {},
   "outputs": [
    {
     "name": "stdout",
     "output_type": "stream",
     "text": [
      "(15, 4098)\n",
      "(1, 4098)\n",
      "The cost at 0th interation is 0.7658091524558575\n",
      "The cost at 100th interation is 0.6544634977228793\n",
      "The cost at 200th interation is 0.586940226199531\n",
      "The cost at 300th interation is 0.5453413480796439\n",
      "The cost at 400th interation is 0.5190273306120374\n",
      "The cost at 500th interation is 0.5007370934337857\n",
      "The cost at 600th interation is 0.4869068699381254\n",
      "The cost at 700th interation is 0.476023910999852\n",
      "The cost at 800th interation is 0.46726260630538935\n",
      "The cost at 900th interation is 0.4600936413268608\n",
      "The cost at 1000th interation is 0.4541505487318426\n",
      "The cost at 1100th interation is 0.44916518930947685\n",
      "The cost at 1200th interation is 0.4449391110997846\n",
      "The cost at 1300th interation is 0.441322218492718\n",
      "The cost at 1400th interation is 0.4381993806605832\n",
      "The cost at 1500th interation is 0.4354808753691888\n",
      "The cost at 1600th interation is 0.4332990540552686\n",
      "The cost at 1700th interation is 0.43135452596499846\n",
      "The cost at 1800th interation is 0.4296119191274448\n",
      "The cost at 1900th interation is 0.4280427070109962\n",
      "The cost at 2000th interation is 0.4266240954189475\n",
      "The cost at 2100th interation is 0.4253369299336756\n",
      "The cost at 2200th interation is 0.42416509992981277\n",
      "The cost at 2300th interation is 0.42309494029887096\n",
      "The cost at 2400th interation is 0.4221150522861428\n",
      "The cost at 2500th interation is 0.4212158279393908\n",
      "The cost at 2600th interation is 0.42038875805062004\n",
      "The cost at 2700th interation is 0.4196265748296203\n",
      "The cost at 2800th interation is 0.4189229249014039\n",
      "The cost at 2900th interation is 0.4182723501671363\n",
      "The cost at 3000th interation is 0.41767007781575044\n",
      "The cost at 3100th interation is 0.4171602967428092\n",
      "The cost at 3200th interation is 0.416684470333291\n",
      "The cost at 3300th interation is 0.41623945210542224\n",
      "The cost at 3400th interation is 0.4158229645461947\n",
      "The cost at 3500th interation is 0.4154329502990603\n",
      "The cost at 3600th interation is 0.4150675055841675\n",
      "The cost at 3700th interation is 0.41472489890405406\n",
      "The cost at 3800th interation is 0.41440355368604775\n",
      "The cost at 3900th interation is 0.41410202183739375\n",
      "The cost at 4000th interation is 0.413818959017589\n",
      "The cost at 4100th interation is 0.4135531567129133\n",
      "The cost at 4200th interation is 0.41330349066324584\n",
      "The cost at 4300th interation is 0.41306892266394285\n",
      "The cost at 4400th interation is 0.4128484931265461\n",
      "The cost at 4500th interation is 0.41264131401036463\n",
      "The cost at 4600th interation is 0.4124636021078905\n",
      "The cost at 4700th interation is 0.4122957635811726\n",
      "The cost at 4800th interation is 0.412137075782731\n",
      "The cost at 4900th interation is 0.4119870320629599\n",
      "The cost at 5000th interation is 0.4118451566202433\n",
      "The cost at 5100th interation is 0.41171100374383546\n",
      "The cost at 5200th interation is 0.4115841562712124\n",
      "The cost at 5300th interation is 0.41146421796823296\n",
      "The cost at 5400th interation is 0.4113508182645042\n",
      "The cost at 5500th interation is 0.4112436083244723\n",
      "The cost at 5600th interation is 0.4111422592501654\n",
      "The cost at 5700th interation is 0.4110464613779516\n",
      "The cost at 5800th interation is 0.4109559227851563\n",
      "The cost at 5900th interation is 0.41087036816035705\n",
      "The cost at 6000th interation is 0.4107895383598427\n",
      "The cost at 6100th interation is 0.4107198895641957\n",
      "The cost at 6200th interation is 0.4106538424317012\n",
      "The cost at 6300th interation is 0.41059116566809306\n",
      "The cost at 6400th interation is 0.4105317049152837\n",
      "The cost at 6500th interation is 0.4104753153348688\n",
      "The cost at 6600th interation is 0.4104218219261831\n",
      "The cost at 6700th interation is 0.41037111855921676\n",
      "The cost at 6800th interation is 0.4103230777866237\n",
      "The cost at 6900th interation is 0.41027758406167514\n",
      "The cost at 7000th interation is 0.41023451456916876\n",
      "The cost at 7100th interation is 0.4101937639847851\n",
      "The cost at 7200th interation is 0.4101552308880949\n",
      "The cost at 7300th interation is 0.4101188120871869\n",
      "The cost at 7400th interation is 0.4100844169083278\n",
      "The cost at 7500th interation is 0.4100519527936705\n",
      "The cost at 7600th interation is 0.41002401122469073\n",
      "The cost at 7700th interation is 0.40999756121972786\n",
      "The cost at 7800th interation is 0.4099725097993924\n",
      "The cost at 7900th interation is 0.40994880088820596\n",
      "The cost at 8000th interation is 0.4099263899564336\n",
      "The cost at 8100th interation is 0.4099052244651959\n",
      "The cost at 8200th interation is 0.40988526407074544\n",
      "The cost at 8300th interation is 0.40986648290935596\n",
      "The cost at 8400th interation is 0.4098488303474312\n",
      "The cost at 8500th interation is 0.40983226867898825\n",
      "The cost at 8600th interation is 0.40981677146966355\n",
      "The cost at 8700th interation is 0.40980227402214736\n",
      "The cost at 8800th interation is 0.4097887373395291\n",
      "The cost at 8900th interation is 0.4097761100604921\n",
      "The cost at 9000th interation is 0.4097643974429642\n",
      "The cost at 9100th interation is 0.4097545106182015\n",
      "The cost at 9200th interation is 0.40974531885449184\n",
      "The cost at 9300th interation is 0.40973673119158305\n",
      "The cost at 9400th interation is 0.4097287705964609\n",
      "The cost at 9500th interation is 0.4097214356481709\n",
      "The cost at 9600th interation is 0.40971467479175816\n",
      "The cost at 9700th interation is 0.4097084116915894\n",
      "The cost at 9800th interation is 0.4097027149003143\n",
      "The cost at 9900th interation is 0.4096975652927503\n"
     ]
    }
   ],
   "source": [
    "params = trainNetwork(0.01)"
   ]
  },
  {
   "cell_type": "code",
   "execution_count": 56,
   "id": "fdad9b9a-cbf2-412f-8c94-722c038fe1fb",
   "metadata": {},
   "outputs": [
    {
     "name": "stdout",
     "output_type": "stream",
     "text": [
      "(15, 139)\n",
      "(1, 139)\n",
      "[[0. 1. 0. 0. 0. 0. 0. 0. 0. 0. 1. 0. 1. 0. 0. 0. 1. 0. 0. 0. 1. 0. 0. 0.\n",
      "  1. 0. 1. 0. 0. 0. 0. 0. 0. 0. 0. 0. 0. 0. 0. 0. 0. 0. 0. 0. 0. 1. 0. 0.\n",
      "  0. 0. 0. 0. 0. 0. 0. 0. 1. 0. 0. 0. 0. 0. 0. 0. 1. 0. 0. 0. 0. 0. 0. 0.\n",
      "  1. 0. 0. 0. 0. 0. 0. 0. 0. 0. 0. 0. 0. 0. 0. 0. 0. 1. 1. 0. 0. 1. 1. 1.\n",
      "  0. 0. 0. 0. 1. 0. 0. 0. 0. 0. 0. 0. 1. 0. 0. 0. 0. 0. 1. 1. 0. 0. 0. 0.\n",
      "  0. 1. 1. 0. 1. 0. 0. 1. 0. 0. 0. 0. 0. 1. 1. 0. 0. 0. 0.]]\n",
      "(1, 139)\n",
      "Accuracy: 81.294964%\n"
     ]
    }
   ],
   "source": [
    "predict(params)"
   ]
  },
  {
   "cell_type": "code",
   "execution_count": null,
   "id": "780027a5-bdb7-4f28-9d1a-34b1e7a8aa3c",
   "metadata": {},
   "outputs": [],
   "source": []
  },
  {
   "cell_type": "code",
   "execution_count": null,
   "id": "d7f311f1-a567-42d9-a0e7-c805249e6682",
   "metadata": {},
   "outputs": [],
   "source": []
  },
  {
   "cell_type": "code",
   "execution_count": null,
   "id": "63365c28-8d63-417c-8e6e-635dbfcd29ee",
   "metadata": {},
   "outputs": [],
   "source": []
  }
 ],
 "metadata": {
  "kernelspec": {
   "display_name": "Python 3.10.5 64-bit",
   "language": "python",
   "name": "python3"
  },
  "language_info": {
   "codemirror_mode": {
    "name": "ipython",
    "version": 3
   },
   "file_extension": ".py",
   "mimetype": "text/x-python",
   "name": "python",
   "nbconvert_exporter": "python",
   "pygments_lexer": "ipython3",
   "version": "3.10.5"
  },
  "vscode": {
   "interpreter": {
    "hash": "27f6fea6f47ae512550f0b8facdbd035a93e1dd89633f7bf2dd00a2502c71d0d"
   }
  }
 },
 "nbformat": 4,
 "nbformat_minor": 5
}
